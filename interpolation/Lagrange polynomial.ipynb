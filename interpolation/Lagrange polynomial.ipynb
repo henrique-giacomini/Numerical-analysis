{
 "cells": [
  {
   "cell_type": "code",
   "execution_count": 109,
   "metadata": {},
   "outputs": [
    {
     "data": {
      "text/html": [
       "\n",
       "        <script>\n",
       "            function code_toggle_11491205410046162523() {\n",
       "                $('div.cell.code_cell.rendered.selected').find('div.input').toggle();\n",
       "            }\n",
       "\n",
       "            \n",
       "        </script>\n",
       "\n",
       "        <a href=\"javascript:code_toggle_11491205410046162523()\">Toggle show/hide</a>\n",
       "    "
      ],
      "text/plain": [
       "<IPython.core.display.HTML object>"
      ]
     },
     "execution_count": 109,
     "metadata": {},
     "output_type": "execute_result"
    }
   ],
   "source": [
    "from IPython.display import HTML\n",
    "import random\n",
    "from sympy import *\n",
    "import numpy as np\n",
    "\n",
    "def hide_toggle(for_next=False):\n",
    "    this_cell = \"\"\"$('div.cell.code_cell.rendered.selected')\"\"\"\n",
    "    next_cell = this_cell + '.next()'\n",
    "\n",
    "    toggle_text = 'Toggle show/hide'  # text shown on toggle link\n",
    "    target_cell = this_cell  # target cell to control with toggle\n",
    "    js_hide_current = ''  # bit of JS to permanently hide code in current cell (only when toggling next cell)\n",
    "\n",
    "    if for_next:\n",
    "        target_cell = next_cell\n",
    "        toggle_text += ' next cell'\n",
    "        js_hide_current = this_cell + '.find(\"div.input\").hide();'\n",
    "\n",
    "    js_f_name = 'code_toggle_{}'.format(str(random.randint(1,2**64)))\n",
    "\n",
    "    html = \"\"\"\n",
    "        <script>\n",
    "            function {f_name}() {{\n",
    "                {cell_selector}.find('div.input').toggle();\n",
    "            }}\n",
    "\n",
    "            {js_hide_current}\n",
    "        </script>\n",
    "\n",
    "        <a href=\"javascript:{f_name}()\">{toggle_text}</a>\n",
    "    \"\"\".format(\n",
    "        f_name=js_f_name,\n",
    "        cell_selector=target_cell,\n",
    "        js_hide_current=js_hide_current, \n",
    "        toggle_text=toggle_text\n",
    "    )\n",
    "\n",
    "    return HTML(html)\n",
    "\n",
    "hide_toggle()\n"
   ]
  },
  {
   "cell_type": "markdown",
   "metadata": {},
   "source": [
    "# Interpolação Polinomial"
   ]
  },
  {
   "cell_type": "markdown",
   "metadata": {},
   "source": [
    "## Método de Lagrange\n",
    "\n",
    "\n",
    "<u>TEOREMA</u>\n",
    "> Dado um conjunto $(x_i,y_i)$, com $\\{1\\le i\\ge n+1\\}$ pares distintos em um intervalo $[a,b]$. Então, existe um único polinômio de grau $n$, $P_n(x)$, tal que $P_n(x_i)=y_i$\n",
    "\n",
    "$$P_n(x) = a_0 + a_1x +a_2x^2 + ... + a_nx^n$$\n"
   ]
  },
  {
   "cell_type": "markdown",
   "metadata": {},
   "source": [
    "O polinômio de Lagrange de grau '$n$' é dado por :\n",
    "\n",
    "$$P_n(x) = \\sum_{k=0}^{n} y_kL_k(x)$$"
   ]
  },
  {
   "cell_type": "markdown",
   "metadata": {},
   "source": [
    "Onde $L_k$ é :\n",
    "$$L_k(x)=\\frac{\\prod_{\\overset{j=0} j\\ne k}^{n} (x-x_j)}{\\prod_{\\overset{j=0} j\\ne k}^{n} (k_k-x_j)}$$"
   ]
  },
  {
   "cell_type": "markdown",
   "metadata": {},
   "source": [
    "Dado um conjunto de 4 valores discretos \n",
    "\n",
    "$x$|$x_0$ |$x_1$|$x_2$|$x_3$\n",
    "---|------|-----|-----|-----\n",
    "$y$|$y_0$ |$y_1$|$y_2$|$y_3$\n",
    "\n",
    "O polinômio será de grau 3 :\n",
    "\n",
    "$P_3(x) = y_0L_0(x) + y_1L_1(x) + y_2L_2(x) + y_3L_3(x)$ \n",
    "\n",
    "Agora vamos obter os coeficientes de Lagrange\n",
    "\n",
    "$$L_0(x) = \\frac{(x-x_1)(x-x_2)(x-x_3)}{(x_0-x_1)(x_0-x_2)(x_0-x_3)}$$\n",
    "\n",
    "$$L_1(x) = \\frac{(x-x_0)(x-x_2)(x-x_3)}{(x_1-x_0)(x_1-x_2)(x_1-x_3)}$$\n",
    "\n",
    "$$L_2(x) = \\frac{(x-x_0)(x-x_1)(x-x_3)}{(x_2-x_0)(x_2-x_1)(x_2-x_3)}$$"
   ]
  },
  {
   "cell_type": "code",
   "execution_count": 79,
   "metadata": {},
   "outputs": [],
   "source": [
    "def lagrange(x,y):\n",
    "    \n",
    "    from numpy import poly1d\n",
    "    from scipy._lib.six import xrange\n",
    "    \n",
    "    M = len(x)\n",
    "    p = poly1d(0.0)\n",
    "    for j in xrange(M):\n",
    "        pt = poly1d(y[j])\n",
    "        for k in xrange(M):\n",
    "            if k == j:\n",
    "                continue\n",
    "            fac = x[j]-x[k]\n",
    "            pt *= poly1d([1.0, -x[k]])/fac\n",
    "        p += pt\n",
    "    return p"
   ]
  },
  {
   "cell_type": "code",
   "execution_count": 110,
   "metadata": {},
   "outputs": [
    {
     "name": "stdout",
     "output_type": "stream",
     "text": [
      "        2\n",
      "0.6667 x - 2.333 x + 1\n"
     ]
    }
   ],
   "source": [
    "x = np.array([-1,0,2])\n",
    "y = np.array([4,1,-1])\n",
    "\n",
    "poly = lagrange(x,y)\n",
    "print(latex(poly))\n"
   ]
  }
 ],
 "metadata": {
  "kernelspec": {
   "display_name": "Python 3",
   "language": "python",
   "name": "python3"
  },
  "language_info": {
   "codemirror_mode": {
    "name": "ipython",
    "version": 3
   },
   "file_extension": ".py",
   "mimetype": "text/x-python",
   "name": "python",
   "nbconvert_exporter": "python",
   "pygments_lexer": "ipython3",
   "version": "3.7.3"
  }
 },
 "nbformat": 4,
 "nbformat_minor": 2
}
